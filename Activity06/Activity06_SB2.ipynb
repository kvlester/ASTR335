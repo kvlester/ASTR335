{
  "nbformat": 4,
  "nbformat_minor": 0,
  "metadata": {
    "colab": {
      "provenance": []
    },
    "kernelspec": {
      "name": "python3",
      "display_name": "Python 3"
    },
    "language_info": {
      "name": "python"
    }
  },
  "cells": [
    {
      "cell_type": "markdown",
      "source": [
        "# Activity 6 - Spectroscopic Binary\n",
        "\n",
        "In this activity, we're going to look at the radial velocity curve of a spectroscopic binary and determine the orbital & stellar parameters.\n",
        "\n",
        "\n",
        "(If you're curious, this star is BT Vulpeculae and the data is from [Torres et al. 2020](https://iopscience.iop.org/article/10.3847/1538-4357/ab85c6/pdf).)"
      ],
      "metadata": {
        "id": "V4KlpAGkKHbF"
      }
    },
    {
      "cell_type": "markdown",
      "source": [
        "# Part 1 - Radial velocity curve\n",
        "\n",
        "Upload the files \"rv_data_primary.txt\" and \"rv_data_both.txt\"  into Colab so you can use them.\n",
        "\n",
        "\"rv_data_primary.txt\" = data for only the primary star. This file has two columns:\n",
        "- time = observation date (in modified Julian Date, a form of days\\*)\n",
        "- rv1 = radial velocity (in km/s) of the primary star\n",
        "\n",
        "\"rv_data_both.txt\" = data for both stars. This file has three columns:\n",
        "- time = observation date (in modified Julian Date)\n",
        "- rv1 = radial velocity (in km/s) of the primary star\n",
        "- rv2 = radia velocity (in km/s) of the secondary star\n",
        "\n",
        "\\\n",
        "\n",
        "\\* Modified Julian date = the number of days since Julian Date 0 (January 1, 4713 BC) minus 2,400,000.5"
      ],
      "metadata": {
        "id": "31DFksMFAyeM"
      }
    },
    {
      "cell_type": "markdown",
      "source": [
        "## Step 1\n",
        "\n",
        "Let's star by reading in the radial velocities (RVs) for our binary.\n",
        "\n",
        "a) Read the \"rv_data_both.txt\" file into a table using the astropy *ascii.read()* function.\n",
        "\n",
        "b) Pull out the time and radial velocity columns into their own arrays by indexing the table with the column name."
      ],
      "metadata": {
        "id": "KXxOBchsVAtP"
      }
    },
    {
      "cell_type": "code",
      "execution_count": null,
      "metadata": {
        "id": "87YCcOpWKCZB"
      },
      "outputs": [],
      "source": [
        "# always start by importing useful packages\n",
        "import numpy as np\n",
        "import matplotlib.pyplot as plt\n",
        "from astropy.io import ascii\n",
        "%matplotlib inline"
      ]
    },
    {
      "cell_type": "code",
      "source": [
        "# read in data\n",
        "\n",
        "\n",
        "# print it out to see what it looks like\n",
        "\n"
      ],
      "metadata": {
        "id": "M7PQBSNOKbvM"
      },
      "execution_count": null,
      "outputs": []
    },
    {
      "cell_type": "code",
      "source": [
        "# pull out each column into it's own array\n",
        "\n"
      ],
      "metadata": {
        "id": "75l2FDqqflle"
      },
      "execution_count": null,
      "outputs": []
    },
    {
      "cell_type": "markdown",
      "source": [
        "## Step 2\n",
        "\n",
        "Make a plot of the primary star's RV's as a function of time, then overplot the secondary star's RV's with a different symbol/color. Be sure to include appropriate axis labels with units."
      ],
      "metadata": {
        "id": "VXAjLcjXOiCG"
      }
    },
    {
      "cell_type": "code",
      "source": [
        "# make plot here\n",
        "\n"
      ],
      "metadata": {
        "id": "UOj9-NsaOrP1"
      },
      "execution_count": null,
      "outputs": []
    },
    {
      "cell_type": "markdown",
      "source": [
        "This plot won't look very pretty, since all of the data overlap and it doesn't take into account the orbital cycles..."
      ],
      "metadata": {
        "id": "xyadnfySfwNG"
      }
    },
    {
      "cell_type": "markdown",
      "source": [
        "## Step 3\n",
        "\n",
        "Let's make a phase folded RV curve. We know the orbital period of this binary is $P=1.1412$ days and the reference time is $t_0 = 56818.8$ days from the light curve data.\n",
        "\n",
        "Calculate the orbital phase of the data using the equation:\n",
        "\n",
        "$$phase = \\frac{(time - t_0)}{period} ~mod ~1 $$\n",
        "\n",
        "which calculates the number of orbital cycles that have happened since a reference time ($t_0$), then uses the modulo operator to only keep the remainder (decimal values 0-1).  (For example, 5.2 mod 1 = 0.2 and 8.7 mod 1 = 0.7.)\n",
        "\n",
        "Hint: You enter modulo into python using a \"%\" sign:\n",
        "```\n",
        "# example --> y = x mod 1\n",
        "y = x % 1\n",
        "```"
      ],
      "metadata": {
        "id": "cdF1uh2cF_0a"
      }
    },
    {
      "cell_type": "code",
      "source": [
        "# calculate orbital phase here\n",
        "\n"
      ],
      "metadata": {
        "id": "zOKXDzOGGuka"
      },
      "execution_count": null,
      "outputs": []
    },
    {
      "cell_type": "markdown",
      "source": [
        "## Step 4\n",
        "\n",
        "Copy your plot from Step 2 into the cell below, then modify it to plot the RV as a function of orbital phase instead. Make sure to change the axis labels as needed.\n"
      ],
      "metadata": {
        "id": "tZuDOKKZX8mt"
      }
    },
    {
      "cell_type": "code",
      "source": [
        "# make plot here\n",
        "\n"
      ],
      "metadata": {
        "id": "COZCjo6mKR8_"
      },
      "execution_count": null,
      "outputs": []
    },
    {
      "cell_type": "markdown",
      "source": [
        "**Question:** Based on the RV curve, what is the estimated velocity semi-amplitude of each star?\n",
        "\n",
        "\\"
      ],
      "metadata": {
        "id": "Jr1QyMLagP2i"
      }
    },
    {
      "cell_type": "markdown",
      "source": [
        "\n",
        "Let's also practice saving this plot using the \"plt.savefig\" command:\n",
        "\n",
        "```\n",
        "# to save a plot\n",
        "plt.plot(x, y)\n",
        "plt.savefig('filename.png', dpi=200)\n",
        "```\n",
        "The extension on the filename tells python what picture format to use. Typically we want higher resolution that the default, so we can also set the resolution with the \"dpi\" parameter.\n",
        "\n",
        "Remake your plot and save it:\n",
        "- Copy your code from the cell above\n",
        "- Comment out/delete the \"plt.show()\" command (or this won't work)\n",
        "- Add in a line to save your plot as a png. Give it any filename you'd like!"
      ],
      "metadata": {
        "id": "_0010vBRZhit"
      }
    },
    {
      "cell_type": "code",
      "source": [
        "# make & save plot here\n",
        "\n"
      ],
      "metadata": {
        "id": "nGLGj91uZs86"
      },
      "execution_count": null,
      "outputs": []
    },
    {
      "cell_type": "markdown",
      "source": [
        "# Part 2 - Orbit fiting\n",
        "\n",
        "We're going to use the \"[BinaryStarSolver](https://pypi.org/project/BinaryStarSolver/)\" package to fit for the orbital parameters of this binary.  \n",
        "\n",
        "This package is not automatically included with Colab, so first we need to install it by running the cell below. (It may take a minute or two, but **you will only need to do this once**.)"
      ],
      "metadata": {
        "id": "Ug9YEnl6LvrF"
      }
    },
    {
      "cell_type": "code",
      "source": [
        "# install package into Colab\n",
        "!pip install BinaryStarSolver\n",
        "\n",
        "# import it into our notebook\n",
        "from binarystarsolve.binarystarsolve import StarSolve"
      ],
      "metadata": {
        "id": "hf4GEMy3KR_3"
      },
      "execution_count": null,
      "outputs": []
    },
    {
      "cell_type": "markdown",
      "source": [
        "## Step 5\n",
        "\n",
        "First, we're going to pretend this is a single-lined binary and only fit for the primary star's orbit. Then we will fit for both stars together (as a double-lined binary) so we can compare the results.\n",
        "\n",
        "The \"StarSolve\" function will take our RV data, fit for the spectroscopic orbit, and give back the best fit parameters & uncertainties.\n",
        "\n",
        "To run the fitting code:\n",
        "\n",
        "-  Tell the function which data set we want by entering the file name into the empty quotes in the call sequence. We want the data file that has **ONLY the primary star's RVs**.\n",
        "\n",
        "-  Run the cell to start the fitting function!\n",
        "\n",
        "If all goes well, it will make some plots of the radial velocities versus time and versus phase with a model fits shown in orange.\n"
      ],
      "metadata": {
        "id": "vQHu6IPOUiVT"
      }
    },
    {
      "cell_type": "code",
      "source": [
        "# fit for the parameters of the primary star\n",
        "param1, error1 = StarSolve(data_file = \" \", star = \"primary\", Pguess = period, zeroEcc = True)"
      ],
      "metadata": {
        "id": "ukr-y7ytL9CK"
      },
      "execution_count": null,
      "outputs": []
    },
    {
      "cell_type": "markdown",
      "source": [
        "Let's see our results! The best fit parameters are saved in a \"param1\" array and the uncertainties are in the \"error1\" array. The cell below will pull out the period and semi-amplitude value into their own variables.\n",
        "\n",
        "Add onto the cell to print out these values with their errors and units."
      ],
      "metadata": {
        "id": "gTgu0jzhWE2Z"
      }
    },
    {
      "cell_type": "code",
      "source": [
        "# Primary star results\n",
        "# params = [γ, K, ω, e, T0, P, a, f(M)]\n",
        "period = param1[5]        # orbital period\n",
        "period_error = error1[5]  # uncertainty in orbital period\n",
        "K1 = param1[1]            # semi-amplitude of primary\n",
        "K1_error = error1[1]      # uncertainty in semi-amplitude of primary\n",
        "\n",
        "# print results here\n",
        "\n"
      ],
      "metadata": {
        "id": "leLj1IeUSZaY"
      },
      "execution_count": null,
      "outputs": []
    },
    {
      "cell_type": "markdown",
      "source": [
        "## Step 6\n",
        "\n",
        "Now, let's fit the RVs of the primary and secondary together. The line below has the syntax for fitting both data sets, so all you need to do is:\n",
        "- enter the filename to the combined data set file\n",
        "- set the \"star\" parameter to \"both\" so it knows to fit for both stars"
      ],
      "metadata": {
        "id": "Q6t9z2T1Wd9B"
      }
    },
    {
      "cell_type": "code",
      "source": [
        "# fit for the parameters of the secondary star\n",
        "param2, error2 = StarSolve(data_file = \"\", star = \"\", Pguess = period, zeroEcc = True)"
      ],
      "metadata": {
        "id": "UWEs5esmXrxL"
      },
      "execution_count": null,
      "outputs": []
    },
    {
      "cell_type": "markdown",
      "source": [
        "This time, the best fit parameters are saved in the \"param2\" array and the uncertainties are in the \"error2\" array. The cell below will pull out the period and semi-amplitude values into their own variables (but the syntax is slightly different than in Step 5).\n",
        "\n",
        "Add onto the cell to print out the period, K1, and K2 values with their errors and units."
      ],
      "metadata": {
        "id": "9Ik1p42CcOHZ"
      }
    },
    {
      "cell_type": "code",
      "source": [
        "# Results\n",
        "period = param2[0,5]        # orbital period\n",
        "period_error = error2[0,5]  # uncertainty in orbital period\n",
        "\n",
        "K1 = param2[0,1]            # semi-amplitude of primary\n",
        "K1_error = error2[0,1]      # uncertainty in semi-amplitude of primary\n",
        "\n",
        "K2 = param2[1,1]            # semi-amplitude of secondary\n",
        "K2_error = error2[1,1]      # uncertainty in semi-amplitude of secondary\n",
        "\n",
        "\n",
        "# print results\n",
        "\n"
      ],
      "metadata": {
        "id": "V8JAGSHFSQA7"
      },
      "execution_count": null,
      "outputs": []
    },
    {
      "cell_type": "markdown",
      "source": [
        "**Question:**\n",
        "\n",
        "- How do the uncertainties in period and K1 from the combined fit (Step 6) compare to the primary-only fit (Step 5)?\n",
        "\n",
        "- Do you think it's better to fit the primary and secondary components' orbits separately or together? Why?"
      ],
      "metadata": {
        "id": "bINsplscYRdI"
      }
    },
    {
      "cell_type": "markdown",
      "source": [
        "## Step 7\n",
        "\n",
        "Next, write some code to calculate the mass ratio of this binary based on the velocity semi-amplitudes. We'll use this in the next step.\n"
      ],
      "metadata": {
        "id": "NufluA3kYba3"
      }
    },
    {
      "cell_type": "code",
      "source": [
        "# calculate mass ratio\n",
        "\n"
      ],
      "metadata": {
        "id": "TMsVxlBpUN8c"
      },
      "execution_count": null,
      "outputs": []
    },
    {
      "cell_type": "markdown",
      "source": [
        "# Part 3 - Stellar masses\n",
        "\n",
        "We can use Kepler's 3rd Law to calculate the combined mass:\n",
        "$$(m_1+ m_2)P^2  = a^3$$"
      ],
      "metadata": {
        "id": "FLhGRDALU4KY"
      }
    },
    {
      "cell_type": "markdown",
      "source": [
        "## Step 8\n",
        "\n",
        "From the light curve, we know that the binary's semi-major axis is $a$ = 6.45 R$_\\odot$. Use this to calculate the combined mass ($m_{tot} = m_1+m_2$).\n",
        "\n",
        "\n",
        "Hint - 1 AU = 215 R$_\\odot$."
      ],
      "metadata": {
        "id": "0-YA3EY6cyJx"
      }
    },
    {
      "cell_type": "code",
      "source": [
        "# calculate combined mass\n",
        "\n"
      ],
      "metadata": {
        "id": "Mg2FMNgxVpKz"
      },
      "execution_count": null,
      "outputs": []
    },
    {
      "cell_type": "markdown",
      "source": [
        "## Step 9\n",
        "\n",
        "Now we have the mass ratio and the combined mass. What is the individual mass of each star?  Write some code to calculate and print out the mass of each star."
      ],
      "metadata": {
        "id": "InYMaJ1JVpTY"
      }
    },
    {
      "cell_type": "code",
      "source": [
        "# calculate individual masses\n",
        "\n"
      ],
      "metadata": {
        "id": "R19OgOc-VsKE"
      },
      "execution_count": null,
      "outputs": []
    },
    {
      "cell_type": "markdown",
      "source": [
        "**Question:** Roughly what spectral types would these stars be?\n",
        "\n",
        "\\\n"
      ],
      "metadata": {
        "id": "tnyIvXd09RiH"
      }
    },
    {
      "cell_type": "markdown",
      "source": [
        "# Bonus\n",
        "\n",
        "If you have time left over, try putting these stars on an HR diagram.\n",
        "1. Read in the data in \"spt.txt\" which has the temperatures and luminosities of different spectral types. Make a plot of the HR diagram with this data.\n",
        "\n",
        "2. Estimate the luminosity values of the binary component stars in BT Vul from the mass-luminosity relationship. Add these stars as points on your HR diagram, assuming the effective temperatures are 7270 K and 6260 K.\n",
        "\n",
        "3. Add the Sun to your HR diagram with a different symbol or color, then add a legend to tell all the data points apart.\n"
      ],
      "metadata": {
        "id": "EZRy6Wtnd-kp"
      }
    },
    {
      "cell_type": "code",
      "source": [
        "# read in spectra type data\n",
        "\n",
        "\n",
        "# calculate binary luminosities\n",
        "\n",
        "\n",
        "# plot HR diagram\n",
        "\n"
      ],
      "metadata": {
        "id": "vw1N8dXMPWLX"
      },
      "execution_count": null,
      "outputs": []
    },
    {
      "cell_type": "markdown",
      "source": [
        "\n",
        "---\n",
        "\n",
        "## Final instructions\n",
        "Finish any remaining exercises, then **send me your notebook by Nov 28** to get participation credit. You can download your notebook as an \".ipynb\" file and email it, or share the notebook with me through google drive.\n",
        "\n",
        "\\\n",
        "If you're finishing the activity at home and run into python problems, don't worry about getting the code exactly right. This isn't a coding class and I'm not grading you on how well you know python. If you're stuck, add a text box and explain what you're trying to do *in words*. Then I'll know you have the right idea and know how to apply the content, even if the python code itself is not working. You're also welcome to stop by my office to ask coding questions anytime!"
      ],
      "metadata": {
        "id": "Lao0YDEgjy-m"
      }
    }
  ]
}